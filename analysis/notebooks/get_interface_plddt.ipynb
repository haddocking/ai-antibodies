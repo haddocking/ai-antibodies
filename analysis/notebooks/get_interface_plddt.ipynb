{
 "cells": [
  {
   "cell_type": "code",
   "execution_count": 5,
   "metadata": {
    "collapsed": true,
    "pycharm": {
     "name": "#%%\n"
    }
   },
   "outputs": [],
   "source": [
    "import numpy as np\n",
    "import pandas as pd\n",
    "from pathlib import Path"
   ]
  },
  {
   "cell_type": "code",
   "execution_count": 6,
   "outputs": [],
   "source": [
    "benchmark_folder = Path('../../benchmark_haddock_27_July_2024')"
   ],
   "metadata": {
    "collapsed": false,
    "pycharm": {
     "name": "#%%\n"
    }
   }
  },
  {
   "cell_type": "code",
   "execution_count": 7,
   "outputs": [],
   "source": [
    "plddt_antigen_df = pd.read_csv('../data/AF2_antigen_rmsd_plddt_multi_regions.csv')\n",
    "plddt_antibody_df = pd.read_csv('../data/AF2_antibody_rmsd_plddt_multi_regions.csv')\n",
    "pdbcodes = plddt_antibody_df['pdb'].unique()\n",
    "interface_plddts = []\n",
    "for pdbcode in pdbcodes:\n",
    "    paratope_res = set()\n",
    "    epitope_res = set()\n",
    "    with (benchmark_folder/f'{pdbcode}/{pdbcode}_constraint_pairs.txt').open('r') as file:\n",
    "        for line in file.readlines()[1:]:\n",
    "            antibody_line, antigen_line = line.split(':')\n",
    "            paratope_res.add(''.join(antibody_line.split(',')[:2]))\n",
    "            epitope_res.add(''.join(antigen_line.split(',')[:2]))\n",
    "    n_paratope_res = len(paratope_res)\n",
    "    n_epitope_res = len(epitope_res)\n",
    "    n_interface_res = n_paratope_res+n_epitope_res\n",
    "    epitope_plddt = plddt_antigen_df.query('pdb==@pdbcode')['plddt_ave_para_epi'].to_list()[0]\n",
    "    paratope_plddt = plddt_antibody_df.query('pdb==@pdbcode')['plddt_ave_para_epi'].to_list()[0]\n",
    "    interface_plddt = (epitope_plddt*n_epitope_res + paratope_plddt*n_paratope_res)/n_interface_res\n",
    "    interface_plddts.append(interface_plddt)\n",
    "\n",
    "interface_plddt_df = pd.DataFrame.from_dict({'pdb': pdbcodes, 'interface_ave_plddt': interface_plddts})"
   ],
   "metadata": {
    "collapsed": false,
    "pycharm": {
     "name": "#%%\n"
    }
   }
  },
  {
   "cell_type": "code",
   "execution_count": 8,
   "outputs": [],
   "source": [
    "interface_plddt_df.to_csv('../data/AF2_interface_plddt.csv')"
   ],
   "metadata": {
    "collapsed": false,
    "pycharm": {
     "name": "#%%\n"
    }
   }
  },
  {
   "cell_type": "code",
   "execution_count": null,
   "outputs": [],
   "source": [],
   "metadata": {
    "collapsed": false,
    "pycharm": {
     "name": "#%%\n"
    }
   }
  }
 ],
 "metadata": {
  "kernelspec": {
   "display_name": "Python 3",
   "language": "python",
   "name": "python3"
  },
  "language_info": {
   "codemirror_mode": {
    "name": "ipython",
    "version": 2
   },
   "file_extension": ".py",
   "mimetype": "text/x-python",
   "name": "python",
   "nbconvert_exporter": "python",
   "pygments_lexer": "ipython2",
   "version": "2.7.6"
  }
 },
 "nbformat": 4,
 "nbformat_minor": 0
}