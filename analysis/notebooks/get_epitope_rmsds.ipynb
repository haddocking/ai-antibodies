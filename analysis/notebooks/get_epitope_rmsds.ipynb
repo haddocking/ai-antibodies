{
 "cells": [
  {
   "cell_type": "code",
   "execution_count": 65,
   "outputs": [],
   "source": [
    "from Bio.SVDSuperimposer import SVDSuperimposer\n",
    "from Bio.PDB import PDBParser\n",
    "import numpy as np\n",
    "from tqdm import tqdm\n",
    "from pathlib import Path\n",
    "import pandas as pd\n",
    "from Bio.Align import PairwiseAligner\n",
    "from Bio.SeqUtils import seq1\n",
    "\n",
    "atoms_list = {\n",
    "    \"backbone\": [\"N\", \"CA\", \"C\", \"O\"],\n",
    "}\n",
    "\n",
    "def get_antigen_rmsd(pdb_code, benchmark_folder: Path):\n",
    "    parser = PDBParser()\n",
    "    native = benchmark_folder/f'{pdb_code}/{pdb_code}_antigen.pdb'\n",
    "    model = benchmark_folder/f'{pdb_code}/{pdb_code}_AF2_antigen_model.pdb'\n",
    "\n",
    "    # native_struc_res = parser.get_structure('native', native).get_residues()\n",
    "    # model_struc_res = parser.get_structure('model', model).get_residues()\n",
    "\n",
    "    native_chains = {chain.id: chain for chain in parser.get_structure('native', native).get_chains()}\n",
    "    model_chains = {chain.id: chain for chain in parser.get_structure('model', model).get_chains()}\n",
    "\n",
    "    chain_id_mappings = {native_chain_id : model_chain_id for native_chain_id, model_chain_id in zip(native_chains.keys(),\n",
    "                                                                                                     model_chains.keys())}\n",
    "\n",
    "    atom_coords_native = []\n",
    "    atom_coords_model = []\n",
    "\n",
    "    atom_coords_model_epitope = []\n",
    "    atom_coords_native_epitope = []\n",
    "\n",
    "    epitope_native_def_nums = {chain: set() for chain in native_chains}\n",
    "    epitope_model_def_nums = {chain: set() for chain in model_chains}\n",
    "    with (benchmark_folder/f'{pdb_code}/{pdb_code}_constraint_pairs.txt').open() as inf:\n",
    "        for line in inf.readlines()[1:]:\n",
    "            antigen_line = line.split(':')[1]\n",
    "            chain_id, resnum, restype = antigen_line.strip().split(',')\n",
    "            resnum = int(resnum)\n",
    "            native_restype =  native_chains[chain_id][(' ',resnum,' ')].resname\n",
    "            if native_restype != restype:\n",
    "                raise ValueError(f\"For {pdb_code=}, chain id {chain_id} residue {resnum}, \"\n",
    "                                     f\"got mismatching residue to constraint, {native_restype=}, constraint={restype}\")\n",
    "            epitope_native_def_nums[chain_id].add(resnum)\n",
    "    with (benchmark_folder/f'{pdb_code}/{pdb_code}_AF2_constraint_pairs.txt').open() as inf:\n",
    "        for line in inf.readlines()[1:]:\n",
    "            antigen_line = line.split(':')[1]\n",
    "            chain_id, resnum, restype = antigen_line.strip().split(',')\n",
    "            resnum = int(resnum)\n",
    "            model_restype =  model_chains[chain_id][(' ',resnum,' ')].resname\n",
    "            if model_restype != restype:\n",
    "                raise ValueError(f\"For {pdb_code=}, chain id {chain_id} residue {resnum}, \"\n",
    "                                     f\"got mismatching residue to constraint, {model_restype=}, constraint={restype}\")\n",
    "            epitope_model_def_nums[chain_id].add(resnum)\n",
    "\n",
    "\n",
    "    for native_chain_id, model_chain_id in chain_id_mappings.items():\n",
    "        nat_ress = list(native_chains[native_chain_id].get_residues())\n",
    "        model_ress = list(model_chains[model_chain_id].get_residues())\n",
    "\n",
    "        seq_native = \"\".join([seq1(res.resname) for res in nat_ress])\n",
    "        seq_model = \"\".join([seq1(res.resname) for res in model_ress])\n",
    "\n",
    "        aligner = PairwiseAligner()\n",
    "\n",
    "        alignment = aligner.align(seq_native,seq_model)\n",
    "\n",
    "        nat_ress_aligned = sum([nat_ress[start:end] for start, end in alignment[0].aligned[0]], start=[])\n",
    "        model_ress_aligned = sum([model_ress[start:end] for start, end in alignment[0].aligned[1]], start=[])\n",
    "\n",
    "        for nat_res, model_res in zip(nat_ress_aligned, model_ress_aligned):\n",
    "            nat_atoms = [list(atom.coord) for atom in list(nat_res.get_atoms()) if atom.get_id() in atoms_list['backbone']]\n",
    "            mod_atoms = [list(atom.coord) for atom in list(model_res.get_atoms()) if atom.get_id() in atoms_list['backbone']]\n",
    "\n",
    "            atom_coords_native += nat_atoms\n",
    "            atom_coords_model += mod_atoms\n",
    "\n",
    "            if nat_res.get_full_id()[3][1] in epitope_native_def_nums[native_chain_id]:\n",
    "                assert model_res.get_full_id()[3][1] in epitope_model_def_nums[model_chain_id]\n",
    "                atom_coords_native_epitope += nat_atoms\n",
    "                atom_coords_model_epitope += mod_atoms\n",
    "\n",
    "    svd = SVDSuperimposer()\n",
    "    svd.set(np.array(atom_coords_native), np.array(atom_coords_model))\n",
    "    svd.run()\n",
    "    rmsd = svd.get_rms()\n",
    "\n",
    "    svd = SVDSuperimposer()\n",
    "    svd.set(np.array(atom_coords_native_epitope), np.array(atom_coords_model_epitope))\n",
    "    svd.run()\n",
    "    rmsd_epi = svd.get_rms()\n",
    "    row = {'pdb': pdb_code, 'rmsd': rmsd, 'rmsd_epitope': rmsd_epi}\n",
    "\n",
    "    return row"
   ],
   "metadata": {
    "collapsed": false,
    "pycharm": {
     "name": "#%%\n"
    }
   }
  },
  {
   "cell_type": "code",
   "execution_count": 66,
   "outputs": [
    {
     "name": "stderr",
     "output_type": "stream",
     "text": [
      " 94%|█████████▍| 79/84 [00:09<00:00,  8.81it/s]/Users/dcutting/Projects/ai-antibodies/.venv/lib/python3.10/site-packages/Bio/PDB/PDBParser.py:395: PDBConstructionWarning: Ignoring unrecognized record 'END' at line 1582\n",
      "  warnings.warn(\n",
      "100%|██████████| 84/84 [00:09<00:00,  8.73it/s]\n"
     ]
    }
   ],
   "source": [
    "records = []\n",
    "benchmark_folder = Path('../../benchmark_haddock_27_July_2024')\n",
    "for path in tqdm(list(benchmark_folder.iterdir())):\n",
    "    if path.is_dir():\n",
    "        pdb_code = path.name\n",
    "    else:\n",
    "        continue\n",
    "    #try:\n",
    "    records.append(get_antigen_rmsd(pdb_code, benchmark_folder))\n",
    "    #except Exception as e:\n",
    "        #print(f\"Got error {e} for {pdb_code=}.\")\n"
   ],
   "metadata": {
    "collapsed": false,
    "pycharm": {
     "name": "#%%\n"
    }
   }
  },
  {
   "cell_type": "code",
   "execution_count": 67,
   "outputs": [],
   "source": [
    "epitope_rmsd_df = pd.DataFrame.from_records(records)\n"
   ],
   "metadata": {
    "collapsed": false,
    "pycharm": {
     "name": "#%%\n"
    }
   }
  },
  {
   "cell_type": "code",
   "execution_count": 68,
   "outputs": [
    {
     "data": {
      "text/plain": "           pdb      rmsd  rmsd_epitope\n0   7rfb_A0-B0  0.970089      1.407753\n1   7ps1_A0-B0  0.539861      0.409709\n2   7kql_H0-L0  2.579659      2.495614\n3   7si0_I0-J0  1.020640      0.524872\n4   7q0i_H0-L0  2.453988      4.086787\n..         ...       ...           ...\n78  7e5o_H0-L0  1.813552      0.509658\n79  7n3i_H0-L0  0.746927      0.549763\n80  7ps2_H0-L0  3.629126      0.338868\n81  7rks_H0-L0  0.903424      1.095239\n82  7kf0_H0-L0  2.436549      0.353302\n\n[83 rows x 3 columns]",
      "text/html": "<div>\n<style scoped>\n    .dataframe tbody tr th:only-of-type {\n        vertical-align: middle;\n    }\n\n    .dataframe tbody tr th {\n        vertical-align: top;\n    }\n\n    .dataframe thead th {\n        text-align: right;\n    }\n</style>\n<table border=\"1\" class=\"dataframe\">\n  <thead>\n    <tr style=\"text-align: right;\">\n      <th></th>\n      <th>pdb</th>\n      <th>rmsd</th>\n      <th>rmsd_epitope</th>\n    </tr>\n  </thead>\n  <tbody>\n    <tr>\n      <th>0</th>\n      <td>7rfb_A0-B0</td>\n      <td>0.970089</td>\n      <td>1.407753</td>\n    </tr>\n    <tr>\n      <th>1</th>\n      <td>7ps1_A0-B0</td>\n      <td>0.539861</td>\n      <td>0.409709</td>\n    </tr>\n    <tr>\n      <th>2</th>\n      <td>7kql_H0-L0</td>\n      <td>2.579659</td>\n      <td>2.495614</td>\n    </tr>\n    <tr>\n      <th>3</th>\n      <td>7si0_I0-J0</td>\n      <td>1.020640</td>\n      <td>0.524872</td>\n    </tr>\n    <tr>\n      <th>4</th>\n      <td>7q0i_H0-L0</td>\n      <td>2.453988</td>\n      <td>4.086787</td>\n    </tr>\n    <tr>\n      <th>...</th>\n      <td>...</td>\n      <td>...</td>\n      <td>...</td>\n    </tr>\n    <tr>\n      <th>78</th>\n      <td>7e5o_H0-L0</td>\n      <td>1.813552</td>\n      <td>0.509658</td>\n    </tr>\n    <tr>\n      <th>79</th>\n      <td>7n3i_H0-L0</td>\n      <td>0.746927</td>\n      <td>0.549763</td>\n    </tr>\n    <tr>\n      <th>80</th>\n      <td>7ps2_H0-L0</td>\n      <td>3.629126</td>\n      <td>0.338868</td>\n    </tr>\n    <tr>\n      <th>81</th>\n      <td>7rks_H0-L0</td>\n      <td>0.903424</td>\n      <td>1.095239</td>\n    </tr>\n    <tr>\n      <th>82</th>\n      <td>7kf0_H0-L0</td>\n      <td>2.436549</td>\n      <td>0.353302</td>\n    </tr>\n  </tbody>\n</table>\n<p>83 rows × 3 columns</p>\n</div>"
     },
     "execution_count": 68,
     "metadata": {},
     "output_type": "execute_result"
    }
   ],
   "source": [
    "epitope_rmsd_df"
   ],
   "metadata": {
    "collapsed": false,
    "pycharm": {
     "name": "#%%\n"
    }
   }
  },
  {
   "cell_type": "code",
   "execution_count": 69,
   "outputs": [],
   "source": [
    "epitope_rmsd_df.to_csv('../data/AF2_antigen_rmsd.csv')"
   ],
   "metadata": {
    "collapsed": false,
    "pycharm": {
     "name": "#%%\n"
    }
   }
  },
  {
   "cell_type": "code",
   "execution_count": null,
   "outputs": [],
   "source": [],
   "metadata": {
    "collapsed": false,
    "pycharm": {
     "name": "#%%\n"
    }
   }
  }
 ],
 "metadata": {
  "kernelspec": {
   "display_name": "Python 3",
   "language": "python",
   "name": "python3"
  },
  "language_info": {
   "codemirror_mode": {
    "name": "ipython",
    "version": 2
   },
   "file_extension": ".py",
   "mimetype": "text/x-python",
   "name": "python",
   "nbconvert_exporter": "python",
   "pygments_lexer": "ipython2",
   "version": "2.7.6"
  }
 },
 "nbformat": 4,
 "nbformat_minor": 0
}