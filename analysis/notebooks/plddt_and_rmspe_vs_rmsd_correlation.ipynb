{
 "cells": [
  {
   "cell_type": "code",
   "execution_count": 37,
   "metadata": {
    "collapsed": true,
    "pycharm": {
     "name": "#%%\n"
    }
   },
   "outputs": [],
   "source": [
    "from scipy.stats import pearsonr, spearmanr, kendalltau\n",
    "import pandas as pd"
   ]
  },
  {
   "cell_type": "code",
   "execution_count": 38,
   "outputs": [],
   "source": [
    "plddt_paratope_df = pd.read_csv('../data/AF2_antibody_rmsd_plddt_multi_regions.csv')\n",
    "plddt_epitope_df = pd.read_csv('../data/AF2_antigen_rmsd_plddt_multi_regions.csv')\n",
    "rmspe_paratope_df = pd.read_csv('../data/ABB2_antibody_rmsd_conf.csv')\n",
    "paratope_rmsd_df = pd.read_csv('../data/paratope_rmsds.csv')\n",
    "epitope_rmsd_df = pd.read_csv('../data/AF2_antigen_rmsd.csv')"
   ],
   "metadata": {
    "collapsed": false,
    "pycharm": {
     "name": "#%%\n"
    }
   }
  },
  {
   "cell_type": "code",
   "execution_count": 39,
   "outputs": [],
   "source": [
    "pdbs_to_remove = {'7l7e_C0-D0'}#{'6xsw', '7cj2', '7e9b', '7m3n', '7n3c', '7n3d', '7o52', '7or9', '7kpj', '7kn4'}"
   ],
   "metadata": {
    "collapsed": false,
    "pycharm": {
     "name": "#%%\n"
    }
   }
  },
  {
   "cell_type": "code",
   "execution_count": 40,
   "outputs": [],
   "source": [
    "af2_paratope_plddt_rmsd_df = plddt_paratope_df.merge(paratope_rmsd_df.query('model==\"AF2\"'), on='pdb')\n",
    "af2_paratope_plddt_rmsd_df = af2_paratope_plddt_rmsd_df.loc[[pdb not in pdbs_to_remove for pdb in af2_paratope_plddt_rmsd_df['pdb']]]"
   ],
   "metadata": {
    "collapsed": false,
    "pycharm": {
     "name": "#%%\n"
    }
   }
  },
  {
   "cell_type": "code",
   "execution_count": 41,
   "outputs": [
    {
     "data": {
      "text/plain": "PearsonRResult(statistic=-0.5993469672608873, pvalue=2.696568888875269e-09)"
     },
     "execution_count": 41,
     "metadata": {},
     "output_type": "execute_result"
    }
   ],
   "source": [
    "pearsonr(af2_paratope_plddt_rmsd_df['plddt_ave_para_epi'], af2_paratope_plddt_rmsd_df['rmsd_paratope'])"
   ],
   "metadata": {
    "collapsed": false,
    "pycharm": {
     "name": "#%%\n"
    }
   }
  },
  {
   "cell_type": "code",
   "execution_count": 42,
   "outputs": [],
   "source": [
    "af2_epitope_plddt_rmsd_df = plddt_epitope_df.merge(epitope_rmsd_df, on='pdb')\n",
    "af2_epitope_plddt_rmsd_df = af2_epitope_plddt_rmsd_df.loc[[pdb not in pdbs_to_remove for pdb in af2_epitope_plddt_rmsd_df['pdb']]]\n"
   ],
   "metadata": {
    "collapsed": false,
    "pycharm": {
     "name": "#%%\n"
    }
   }
  },
  {
   "cell_type": "code",
   "execution_count": 43,
   "outputs": [
    {
     "data": {
      "text/plain": "    Unnamed: 0_x         pdb  rmsd_full  plddt_ave_full rmsd_full_cat  \\\n0              0  7rfb_A0-B0   0.970089       90.934071          high   \n1              1  7ps1_A0-B0   0.539861       93.995773          high   \n2              2  7kql_H0-L0   2.579659       92.735909          good   \n3              3  7si0_I0-J0   1.020640       95.436029          high   \n4              4  7q0i_H0-L0   2.453988       87.117885          good   \n..           ...         ...        ...             ...           ...   \n78            78  7e5o_H0-L0   1.813552       92.564309          high   \n79            79  7n3i_H0-L0   0.746927       93.915670          high   \n80            80  7ps2_H0-L0   3.629126       92.087056          good   \n81            81  7rks_H0-L0   0.903424       94.148516          high   \n82            82  7kf0_H0-L0   2.436549       96.963842          good   \n\n   plddt_full_cat  rmsd_vague  plddt_ave_vague rmsd_vague_cat plddt_vague_cat  \\\n0            high    1.200834        89.591489           high            good   \n1            high    0.375188        97.129344           high            high   \n2            high    2.194142        92.830714           good            high   \n3            high    0.395253        96.665714           high            high   \n4            good    3.756003        66.813556           good             bad   \n..            ...         ...              ...            ...             ...   \n78           high    0.623756        97.421594           high            high   \n79           high    0.481877        97.444762           high            high   \n80           high    0.316295        93.746154           high            high   \n81           high    1.081954        92.823472           high            high   \n82           high    0.382420        97.064324           high            high   \n\n    rmsd_para_epi  plddt_ave_para_epi rmsd_para_epi_cat plddt_para_epi_cat  \\\n0        1.407753           85.285238              high               good   \n1        0.409709           96.922963              high               high   \n2        2.495614           91.513750              good               high   \n3        0.524872           96.554211              high               high   \n4        4.086787           63.501739              good                bad   \n..            ...                 ...               ...                ...   \n78       0.509658           97.525172              high               high   \n79       0.549763           97.357273              high               high   \n80       0.338868           93.993810              high               high   \n81       1.095239           90.180000              high               high   \n82       0.353302           96.156316              high               high   \n\n    Unnamed: 0_y      rmsd  rmsd_epitope  \n0              0  0.970089      1.407753  \n1              1  0.539861      0.409709  \n2              2  2.579659      2.495614  \n3              3  1.020640      0.524872  \n4              4  2.453988      4.086787  \n..           ...       ...           ...  \n78            78  1.813552      0.509658  \n79            79  0.746927      0.549763  \n80            80  3.629126      0.338868  \n81            81  0.903424      1.095239  \n82            82  2.436549      0.353302  \n\n[82 rows x 17 columns]",
      "text/html": "<div>\n<style scoped>\n    .dataframe tbody tr th:only-of-type {\n        vertical-align: middle;\n    }\n\n    .dataframe tbody tr th {\n        vertical-align: top;\n    }\n\n    .dataframe thead th {\n        text-align: right;\n    }\n</style>\n<table border=\"1\" class=\"dataframe\">\n  <thead>\n    <tr style=\"text-align: right;\">\n      <th></th>\n      <th>Unnamed: 0_x</th>\n      <th>pdb</th>\n      <th>rmsd_full</th>\n      <th>plddt_ave_full</th>\n      <th>rmsd_full_cat</th>\n      <th>plddt_full_cat</th>\n      <th>rmsd_vague</th>\n      <th>plddt_ave_vague</th>\n      <th>rmsd_vague_cat</th>\n      <th>plddt_vague_cat</th>\n      <th>rmsd_para_epi</th>\n      <th>plddt_ave_para_epi</th>\n      <th>rmsd_para_epi_cat</th>\n      <th>plddt_para_epi_cat</th>\n      <th>Unnamed: 0_y</th>\n      <th>rmsd</th>\n      <th>rmsd_epitope</th>\n    </tr>\n  </thead>\n  <tbody>\n    <tr>\n      <th>0</th>\n      <td>0</td>\n      <td>7rfb_A0-B0</td>\n      <td>0.970089</td>\n      <td>90.934071</td>\n      <td>high</td>\n      <td>high</td>\n      <td>1.200834</td>\n      <td>89.591489</td>\n      <td>high</td>\n      <td>good</td>\n      <td>1.407753</td>\n      <td>85.285238</td>\n      <td>high</td>\n      <td>good</td>\n      <td>0</td>\n      <td>0.970089</td>\n      <td>1.407753</td>\n    </tr>\n    <tr>\n      <th>1</th>\n      <td>1</td>\n      <td>7ps1_A0-B0</td>\n      <td>0.539861</td>\n      <td>93.995773</td>\n      <td>high</td>\n      <td>high</td>\n      <td>0.375188</td>\n      <td>97.129344</td>\n      <td>high</td>\n      <td>high</td>\n      <td>0.409709</td>\n      <td>96.922963</td>\n      <td>high</td>\n      <td>high</td>\n      <td>1</td>\n      <td>0.539861</td>\n      <td>0.409709</td>\n    </tr>\n    <tr>\n      <th>2</th>\n      <td>2</td>\n      <td>7kql_H0-L0</td>\n      <td>2.579659</td>\n      <td>92.735909</td>\n      <td>good</td>\n      <td>high</td>\n      <td>2.194142</td>\n      <td>92.830714</td>\n      <td>good</td>\n      <td>high</td>\n      <td>2.495614</td>\n      <td>91.513750</td>\n      <td>good</td>\n      <td>high</td>\n      <td>2</td>\n      <td>2.579659</td>\n      <td>2.495614</td>\n    </tr>\n    <tr>\n      <th>3</th>\n      <td>3</td>\n      <td>7si0_I0-J0</td>\n      <td>1.020640</td>\n      <td>95.436029</td>\n      <td>high</td>\n      <td>high</td>\n      <td>0.395253</td>\n      <td>96.665714</td>\n      <td>high</td>\n      <td>high</td>\n      <td>0.524872</td>\n      <td>96.554211</td>\n      <td>high</td>\n      <td>high</td>\n      <td>3</td>\n      <td>1.020640</td>\n      <td>0.524872</td>\n    </tr>\n    <tr>\n      <th>4</th>\n      <td>4</td>\n      <td>7q0i_H0-L0</td>\n      <td>2.453988</td>\n      <td>87.117885</td>\n      <td>good</td>\n      <td>good</td>\n      <td>3.756003</td>\n      <td>66.813556</td>\n      <td>good</td>\n      <td>bad</td>\n      <td>4.086787</td>\n      <td>63.501739</td>\n      <td>good</td>\n      <td>bad</td>\n      <td>4</td>\n      <td>2.453988</td>\n      <td>4.086787</td>\n    </tr>\n    <tr>\n      <th>...</th>\n      <td>...</td>\n      <td>...</td>\n      <td>...</td>\n      <td>...</td>\n      <td>...</td>\n      <td>...</td>\n      <td>...</td>\n      <td>...</td>\n      <td>...</td>\n      <td>...</td>\n      <td>...</td>\n      <td>...</td>\n      <td>...</td>\n      <td>...</td>\n      <td>...</td>\n      <td>...</td>\n      <td>...</td>\n    </tr>\n    <tr>\n      <th>78</th>\n      <td>78</td>\n      <td>7e5o_H0-L0</td>\n      <td>1.813552</td>\n      <td>92.564309</td>\n      <td>high</td>\n      <td>high</td>\n      <td>0.623756</td>\n      <td>97.421594</td>\n      <td>high</td>\n      <td>high</td>\n      <td>0.509658</td>\n      <td>97.525172</td>\n      <td>high</td>\n      <td>high</td>\n      <td>78</td>\n      <td>1.813552</td>\n      <td>0.509658</td>\n    </tr>\n    <tr>\n      <th>79</th>\n      <td>79</td>\n      <td>7n3i_H0-L0</td>\n      <td>0.746927</td>\n      <td>93.915670</td>\n      <td>high</td>\n      <td>high</td>\n      <td>0.481877</td>\n      <td>97.444762</td>\n      <td>high</td>\n      <td>high</td>\n      <td>0.549763</td>\n      <td>97.357273</td>\n      <td>high</td>\n      <td>high</td>\n      <td>79</td>\n      <td>0.746927</td>\n      <td>0.549763</td>\n    </tr>\n    <tr>\n      <th>80</th>\n      <td>80</td>\n      <td>7ps2_H0-L0</td>\n      <td>3.629126</td>\n      <td>92.087056</td>\n      <td>good</td>\n      <td>high</td>\n      <td>0.316295</td>\n      <td>93.746154</td>\n      <td>high</td>\n      <td>high</td>\n      <td>0.338868</td>\n      <td>93.993810</td>\n      <td>high</td>\n      <td>high</td>\n      <td>80</td>\n      <td>3.629126</td>\n      <td>0.338868</td>\n    </tr>\n    <tr>\n      <th>81</th>\n      <td>81</td>\n      <td>7rks_H0-L0</td>\n      <td>0.903424</td>\n      <td>94.148516</td>\n      <td>high</td>\n      <td>high</td>\n      <td>1.081954</td>\n      <td>92.823472</td>\n      <td>high</td>\n      <td>high</td>\n      <td>1.095239</td>\n      <td>90.180000</td>\n      <td>high</td>\n      <td>high</td>\n      <td>81</td>\n      <td>0.903424</td>\n      <td>1.095239</td>\n    </tr>\n    <tr>\n      <th>82</th>\n      <td>82</td>\n      <td>7kf0_H0-L0</td>\n      <td>2.436549</td>\n      <td>96.963842</td>\n      <td>good</td>\n      <td>high</td>\n      <td>0.382420</td>\n      <td>97.064324</td>\n      <td>high</td>\n      <td>high</td>\n      <td>0.353302</td>\n      <td>96.156316</td>\n      <td>high</td>\n      <td>high</td>\n      <td>82</td>\n      <td>2.436549</td>\n      <td>0.353302</td>\n    </tr>\n  </tbody>\n</table>\n<p>82 rows × 17 columns</p>\n</div>"
     },
     "execution_count": 43,
     "metadata": {},
     "output_type": "execute_result"
    }
   ],
   "source": [
    "af2_epitope_plddt_rmsd_df"
   ],
   "metadata": {
    "collapsed": false,
    "pycharm": {
     "name": "#%%\n"
    }
   }
  },
  {
   "cell_type": "code",
   "execution_count": 44,
   "outputs": [
    {
     "data": {
      "text/plain": "PearsonRResult(statistic=-0.6489629400540674, pvalue=4.289123449005571e-11)"
     },
     "execution_count": 44,
     "metadata": {},
     "output_type": "execute_result"
    }
   ],
   "source": [
    "pearsonr(af2_epitope_plddt_rmsd_df['plddt_ave_para_epi'], af2_epitope_plddt_rmsd_df['rmsd_para_epi'])\n"
   ],
   "metadata": {
    "collapsed": false,
    "pycharm": {
     "name": "#%%\n"
    }
   }
  },
  {
   "cell_type": "code",
   "execution_count": 45,
   "outputs": [],
   "source": [
    "abb2_paratope_rmspe_rmsd_df = rmspe_paratope_df.loc[[pdb not in pdbs_to_remove for pdb in rmspe_paratope_df['pdb']]]\n"
   ],
   "metadata": {
    "collapsed": false,
    "pycharm": {
     "name": "#%%\n"
    }
   }
  },
  {
   "cell_type": "code",
   "execution_count": 46,
   "outputs": [
    {
     "data": {
      "text/plain": "PearsonRResult(statistic=0.6968040606260192, pvalue=3.586614773930132e-13)"
     },
     "execution_count": 46,
     "metadata": {},
     "output_type": "execute_result"
    }
   ],
   "source": [
    "pearsonr(abb2_paratope_rmspe_rmsd_df['para_ave_conf'], abb2_paratope_rmspe_rmsd_df['rmsd_paratope'])"
   ],
   "metadata": {
    "collapsed": false,
    "pycharm": {
     "name": "#%%\n"
    }
   }
  },
  {
   "cell_type": "code",
   "execution_count": 47,
   "outputs": [
    {
     "data": {
      "text/plain": "    Unnamed: 0_x         pdb  rmsd_full  plddt_ave_full rmsd_full_cat  \\\n48            48  7kn4_H0-L0   0.754268       94.072526          high   \n\n   plddt_full_cat  rmsd_vague  plddt_ave_vague rmsd_vague_cat plddt_vague_cat  \\\n48           high    0.470173        97.216667           high            high   \n\n    rmsd_para_epi  plddt_ave_para_epi rmsd_para_epi_cat plddt_para_epi_cat  \\\n48       0.455229           96.776667              high               high   \n\n    Unnamed: 0_y      rmsd  rmsd_epitope  \n48            48  0.754268      0.455229  ",
      "text/html": "<div>\n<style scoped>\n    .dataframe tbody tr th:only-of-type {\n        vertical-align: middle;\n    }\n\n    .dataframe tbody tr th {\n        vertical-align: top;\n    }\n\n    .dataframe thead th {\n        text-align: right;\n    }\n</style>\n<table border=\"1\" class=\"dataframe\">\n  <thead>\n    <tr style=\"text-align: right;\">\n      <th></th>\n      <th>Unnamed: 0_x</th>\n      <th>pdb</th>\n      <th>rmsd_full</th>\n      <th>plddt_ave_full</th>\n      <th>rmsd_full_cat</th>\n      <th>plddt_full_cat</th>\n      <th>rmsd_vague</th>\n      <th>plddt_ave_vague</th>\n      <th>rmsd_vague_cat</th>\n      <th>plddt_vague_cat</th>\n      <th>rmsd_para_epi</th>\n      <th>plddt_ave_para_epi</th>\n      <th>rmsd_para_epi_cat</th>\n      <th>plddt_para_epi_cat</th>\n      <th>Unnamed: 0_y</th>\n      <th>rmsd</th>\n      <th>rmsd_epitope</th>\n    </tr>\n  </thead>\n  <tbody>\n    <tr>\n      <th>48</th>\n      <td>48</td>\n      <td>7kn4_H0-L0</td>\n      <td>0.754268</td>\n      <td>94.072526</td>\n      <td>high</td>\n      <td>high</td>\n      <td>0.470173</td>\n      <td>97.216667</td>\n      <td>high</td>\n      <td>high</td>\n      <td>0.455229</td>\n      <td>96.776667</td>\n      <td>high</td>\n      <td>high</td>\n      <td>48</td>\n      <td>0.754268</td>\n      <td>0.455229</td>\n    </tr>\n  </tbody>\n</table>\n</div>"
     },
     "execution_count": 47,
     "metadata": {},
     "output_type": "execute_result"
    }
   ],
   "source": [
    "pdbs_to_remove = {'6xsw', '7cj2', '7e9b', '7m3n', '7n3c', '7n3d', '7o52', '7or9', '7kpj', '7kn4'}\n",
    "\n",
    "af2_epitope_plddt_rmsd_df[af2_epitope_plddt_rmsd_df.pdb.str.split('_').str[0].isin(pdbs_to_remove)]"
   ],
   "metadata": {
    "collapsed": false,
    "pycharm": {
     "name": "#%%\n"
    }
   }
  },
  {
   "cell_type": "code",
   "execution_count": null,
   "outputs": [],
   "source": [],
   "metadata": {
    "collapsed": false,
    "pycharm": {
     "name": "#%%\n"
    }
   }
  }
 ],
 "metadata": {
  "kernelspec": {
   "display_name": "Python 3",
   "language": "python",
   "name": "python3"
  },
  "language_info": {
   "codemirror_mode": {
    "name": "ipython",
    "version": 2
   },
   "file_extension": ".py",
   "mimetype": "text/x-python",
   "name": "python",
   "nbconvert_exporter": "python",
   "pygments_lexer": "ipython2",
   "version": "2.7.6"
  }
 },
 "nbformat": 4,
 "nbformat_minor": 0
}