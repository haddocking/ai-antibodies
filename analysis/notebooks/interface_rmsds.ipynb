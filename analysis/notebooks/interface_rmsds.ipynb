{
 "cells": [
  {
   "cell_type": "code",
   "execution_count": 6,
   "metadata": {
    "collapsed": true,
    "pycharm": {
     "name": "#%%\n"
    }
   },
   "outputs": [],
   "source": [
    "import numpy as np\n",
    "import pandas as pd\n",
    "from pathlib import Path"
   ]
  },
  {
   "cell_type": "code",
   "execution_count": 7,
   "outputs": [],
   "source": [
    "benchmark_folder = Path('../../benchmark_haddock_27_July_2024')\n",
    "antigen_df = pd.read_csv('../data/AF2_antigen_rmsd.csv',index_col = 0)"
   ],
   "metadata": {
    "collapsed": false,
    "pycharm": {
     "name": "#%%\n"
    }
   }
  },
  {
   "cell_type": "code",
   "execution_count": 8,
   "outputs": [],
   "source": [
    "paratope_df = pd.read_csv('../data/paratope_rmsds.csv',index_col=0)"
   ],
   "metadata": {
    "collapsed": false,
    "pycharm": {
     "name": "#%%\n"
    }
   }
  },
  {
   "cell_type": "code",
   "execution_count": 9,
   "outputs": [],
   "source": [
    "paratope_df['rmsd_interface'] = np.NaN\n",
    "paratope_df['rmsd_epitope'] = np.NaN\n",
    "for pdbcode in paratope_df['pdb'].unique():\n",
    "    paratope_res = set()\n",
    "    epitope_res = set()\n",
    "    with (benchmark_folder/f'{pdbcode}/{pdbcode}_constraint_pairs.txt').open('r') as file:\n",
    "        for line in file.readlines()[1:]:\n",
    "            antibody_line, antigen_line = line.split(':')\n",
    "            paratope_res.add(''.join(antibody_line.split(',')[:2]))\n",
    "            epitope_res.add(''.join(antigen_line.split(',')[:2]))\n",
    "    n_paratope_res = len(paratope_res)\n",
    "    n_epitope_res = len(epitope_res)\n",
    "    n_interface_res = n_paratope_res+n_epitope_res\n",
    "    epitope_rmsd = antigen_df.query('pdb==@pdbcode')['rmsd_epitope'].item()\n",
    "    paratope_df.loc[paratope_df['pdb'] == pdbcode,'rmsd_interface'] = np.sqrt((paratope_df.loc[paratope_df['pdb']==pdbcode ,'rmsd_paratope']**2*n_paratope_res + epitope_rmsd**2*n_epitope_res)/n_interface_res)\n",
    "    paratope_df.loc[paratope_df['pdb'] == pdbcode, 'rmsd_epitope'] = epitope_rmsd"
   ],
   "metadata": {
    "collapsed": false,
    "pycharm": {
     "name": "#%%\n"
    }
   }
  },
  {
   "cell_type": "code",
   "execution_count": 10,
   "outputs": [],
   "source": [
    "paratope_df.to_csv('../data/para_epi_interface_rmsds.csv', index=False)"
   ],
   "metadata": {
    "collapsed": false,
    "pycharm": {
     "name": "#%%\n"
    }
   }
  },
  {
   "cell_type": "code",
   "execution_count": null,
   "outputs": [],
   "source": [],
   "metadata": {
    "collapsed": false,
    "pycharm": {
     "name": "#%%\n"
    }
   }
  }
 ],
 "metadata": {
  "kernelspec": {
   "display_name": "Python 3",
   "language": "python",
   "name": "python3"
  },
  "language_info": {
   "codemirror_mode": {
    "name": "ipython",
    "version": 2
   },
   "file_extension": ".py",
   "mimetype": "text/x-python",
   "name": "python",
   "nbconvert_exporter": "python",
   "pygments_lexer": "ipython2",
   "version": "2.7.6"
  }
 },
 "nbformat": 4,
 "nbformat_minor": 0
}