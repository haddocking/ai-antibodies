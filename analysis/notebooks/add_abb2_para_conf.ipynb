{
 "cells": [
  {
   "cell_type": "code",
   "execution_count": 1,
   "metadata": {
    "collapsed": true,
    "pycharm": {
     "name": "#%%\n"
    }
   },
   "outputs": [],
   "source": [
    "import traceback\n",
    "import warnings\n",
    "import pandas as pd\n",
    "from pathlib import Path\n",
    "\n",
    "from tqdm import tqdm\n",
    "\n",
    "from Bio.SVDSuperimposer import SVDSuperimposer\n",
    "from Bio.PDB import PDBParser\n",
    "import numpy as np\n",
    "\n",
    "atoms_list = {\n",
    "    \"backbone\": [\"N\", \"CA\", \"C\", \"O\"],\n",
    "    \"ca\": [\"CA\"]\n",
    "}"
   ]
  },
  {
   "cell_type": "code",
   "execution_count": 2,
   "outputs": [],
   "source": [
    "def get_paratope_confs(pdb_code: str, benchmark_folder: Path, cdr_epi_vague: bool = False):\n",
    "    parser = PDBParser()\n",
    "    native = benchmark_folder/f'{pdb_code}/{pdb_code}_true_complex.pdb'\n",
    "    model = benchmark_folder/f'{pdb_code}/ABodyBuilder2_{pdb_code}_antibody_model_imgt.pdb'\n",
    "\n",
    "    model_chains = {chain.id: chain for chain in parser.get_structure('model', model).get_chains()}\n",
    "    native_chains = {chain.id: chain for chain in parser.get_structure('native', native).get_chains()\n",
    "                     if chain.id in model_chains.keys()}\n",
    "\n",
    "    if set(native_chains.keys()) != set(model_chains.keys()):\n",
    "        raise ValueError(\"Model chain ids not equal to native chain ids.\")\n",
    "\n",
    "    paratope_def_nums = {chain_id: set() for chain_id in model_chains.keys()}\n",
    "    if cdr_epi_vague:\n",
    "        with open(benchmark_folder/f'{pdb_code}/{pdb_code}_residue_constraints_antibody.csv') as file:\n",
    "            file.readline()\n",
    "            for line in file:\n",
    "                words = line.strip().split(',')\n",
    "                if words[1][-1].isalpha():\n",
    "                    insert_code = words[1][-1]\n",
    "                    number = int(words[1][:-1])\n",
    "                else:\n",
    "                    insert_code = ' '\n",
    "                    number = int(words[1])\n",
    "                model_resname =  model_chains[words[0]][(' ', number, insert_code)].resname\n",
    "                if model_resname != words[2].upper() :\n",
    "                    raise ValueError(f\"For {pdb_code=}, chain id {words[0]} residue {number}{insert_code}, \"\n",
    "                                     f\"got mismatching residue to constraint, {model_resname=}, constraint={words[2]}\")\n",
    "                residue_key = (' ', number, insert_code)\n",
    "                if residue_key not in native_chains[words[0]].child_dict.keys():\n",
    "                    warnings.warn(f'For {pdb_code} and {cdr_epi_vague=} chain {words[0]} {residue_key} not found in native model')\n",
    "                    continue\n",
    "                paratope_def_nums[words[0]].add(residue_key)\n",
    "    else:\n",
    "        with open(benchmark_folder/f'{pdb_code}/{pdb_code}_constraint_pairs.txt') as file:\n",
    "            file.readline()\n",
    "            for line in file:\n",
    "                antibody_line = line.split(':')[0]\n",
    "                words = antibody_line.strip().split(',')\n",
    "                if words[1][-1].isalpha():\n",
    "                    insert_code = words[1][-1]\n",
    "                    number = int(words[1][:-1])\n",
    "                else:\n",
    "                    insert_code = ' '\n",
    "                    number = int(words[1])\n",
    "                model_resname =  model_chains[words[0]][(' ', number, insert_code)].resname\n",
    "                if model_resname != words[2].upper() :\n",
    "                    raise ValueError(f\"For {pdb_code=}, chain id {words[0]} residue {number}{insert_code}, \"\n",
    "                                     f\"got mismatching residue to constraint, {model_resname=}, constraint={words[2]}\")\n",
    "                residue_key = (' ', number, insert_code)\n",
    "                if residue_key not in native_chains[words[0]].child_dict.keys():\n",
    "                    warnings.warn(f'For {pdb_code} and {cdr_epi_vague=} chain {words[0]} {residue_key} not found in native model')\n",
    "                    continue\n",
    "                paratope_def_nums[words[0]].add(residue_key)\n",
    "\n",
    "    try:\n",
    "        native_paratope_atom_coords = [list(atom.coord)  for chain_id, residue_keys\n",
    "                                       in paratope_def_nums.items() for residue_key in residue_keys\n",
    "                                       for atom in native_chains[chain_id][residue_key]\n",
    "                                       if atom.get_id() in atoms_list['backbone']]\n",
    "\n",
    "        model_paratope_atom_coords = [list(atom.coord)  for chain_id, residue_keys\n",
    "                                       in paratope_def_nums.items() for residue_key in residue_keys\n",
    "                                       for atom in model_chains[chain_id][residue_key]\n",
    "                                       if atom.get_id() in atoms_list['backbone']]\n",
    "    except Exception as e:\n",
    "        print(traceback.format_exc())\n",
    "        raise ValueError(f\"For {pdb_code=} got error {e}\")\n",
    "\n",
    "    svd = SVDSuperimposer()\n",
    "    svd.set(np.array(native_paratope_atom_coords), np.array(model_paratope_atom_coords))\n",
    "    svd.run()\n",
    "    rmsd_para = svd.get_rms()\n",
    "\n",
    "    model_paratope_atom_conf = [atom.bfactor  for chain_id, residue_keys\n",
    "                                           in paratope_def_nums.items() for residue_key in residue_keys\n",
    "                                           for atom in model_chains[chain_id][residue_key]\n",
    "                                           if atom.get_id() in atoms_list['backbone']]\n",
    "\n",
    "    para_ave_conf = np.mean(model_paratope_atom_conf)\n",
    "    row = {'pdb': pdb_code, 'rmsd_paratope': rmsd_para, 'para_ave_conf': para_ave_conf}\n",
    "\n",
    "    return row"
   ],
   "metadata": {
    "collapsed": false,
    "pycharm": {
     "name": "#%%\n"
    }
   }
  },
  {
   "cell_type": "code",
   "execution_count": 3,
   "outputs": [
    {
     "name": "stderr",
     "output_type": "stream",
     "text": [
      " 13%|█▎        | 11/84 [00:01<00:09,  7.68it/s]/var/folders/z8/jlwrv8zn6h9fzlz4kqcsnq2m0000gq/T/ipykernel_51643/309903845.py:31: UserWarning: For 7mzm_H0-L0 and cdr_epi_vague=True chain H (' ', 111, ' ') not found in native model\n",
      "  warnings.warn(f'For {pdb_code} and {cdr_epi_vague=} chain {words[0]} {residue_key} not found in native model')\n",
      "/var/folders/z8/jlwrv8zn6h9fzlz4kqcsnq2m0000gq/T/ipykernel_51643/309903845.py:31: UserWarning: For 7mzm_H0-L0 and cdr_epi_vague=True chain H (' ', 111, 'A') not found in native model\n",
      "  warnings.warn(f'For {pdb_code} and {cdr_epi_vague=} chain {words[0]} {residue_key} not found in native model')\n",
      "/var/folders/z8/jlwrv8zn6h9fzlz4kqcsnq2m0000gq/T/ipykernel_51643/309903845.py:31: UserWarning: For 7mzm_H0-L0 and cdr_epi_vague=True chain H (' ', 111, 'B') not found in native model\n",
      "  warnings.warn(f'For {pdb_code} and {cdr_epi_vague=} chain {words[0]} {residue_key} not found in native model')\n",
      " 58%|█████▊    | 49/84 [00:07<00:04,  7.29it/s]/var/folders/z8/jlwrv8zn6h9fzlz4kqcsnq2m0000gq/T/ipykernel_51643/309903845.py:31: UserWarning: For 7kn4_H0-L0 and cdr_epi_vague=True chain H (' ', 31, ' ') not found in native model\n",
      "  warnings.warn(f'For {pdb_code} and {cdr_epi_vague=} chain {words[0]} {residue_key} not found in native model')\n",
      "/var/folders/z8/jlwrv8zn6h9fzlz4kqcsnq2m0000gq/T/ipykernel_51643/309903845.py:31: UserWarning: For 7kn4_H0-L0 and cdr_epi_vague=True chain H (' ', 34, ' ') not found in native model\n",
      "  warnings.warn(f'For {pdb_code} and {cdr_epi_vague=} chain {words[0]} {residue_key} not found in native model')\n",
      "/var/folders/z8/jlwrv8zn6h9fzlz4kqcsnq2m0000gq/T/ipykernel_51643/309903845.py:31: UserWarning: For 7kn4_H0-L0 and cdr_epi_vague=True chain H (' ', 35, ' ') not found in native model\n",
      "  warnings.warn(f'For {pdb_code} and {cdr_epi_vague=} chain {words[0]} {residue_key} not found in native model')\n",
      " 88%|████████▊ | 74/84 [00:11<00:01,  6.01it/s]/var/folders/z8/jlwrv8zn6h9fzlz4kqcsnq2m0000gq/T/ipykernel_51643/309903845.py:31: UserWarning: For 7coe_H0-L0 and cdr_epi_vague=True chain H (' ', 111, 'E') not found in native model\n",
      "  warnings.warn(f'For {pdb_code} and {cdr_epi_vague=} chain {words[0]} {residue_key} not found in native model')\n",
      "/var/folders/z8/jlwrv8zn6h9fzlz4kqcsnq2m0000gq/T/ipykernel_51643/309903845.py:31: UserWarning: For 7coe_H0-L0 and cdr_epi_vague=True chain H (' ', 112, 'F') not found in native model\n",
      "  warnings.warn(f'For {pdb_code} and {cdr_epi_vague=} chain {words[0]} {residue_key} not found in native model')\n",
      "100%|██████████| 84/84 [00:13<00:00,  6.36it/s]\n"
     ]
    }
   ],
   "source": [
    "records = []\n",
    "benchmark_folder = Path('../../benchmark_haddock_27_July_2024')\n",
    "for path in tqdm(list(benchmark_folder.iterdir())):\n",
    "    if path.is_dir():\n",
    "        pdb_code = path.name\n",
    "    else:\n",
    "        continue\n",
    "    try:\n",
    "        record = get_paratope_confs(pdb_code,benchmark_folder)\n",
    "        vague_para_record = get_paratope_confs(pdb_code,benchmark_folder,cdr_epi_vague=True)\n",
    "        record.update({'rmsd_vague_paratope': vague_para_record['rmsd_paratope'],\n",
    "                       'para_vague_ave_conf': vague_para_record['para_ave_conf']})\n",
    "        records.append(record)\n",
    "    except Exception as e:\n",
    "        print(f\"Got error {e} for {pdb_code=}.\")"
   ],
   "metadata": {
    "collapsed": false,
    "pycharm": {
     "name": "#%%\n"
    }
   }
  },
  {
   "cell_type": "code",
   "execution_count": 4,
   "outputs": [
    {
     "name": "stdout",
     "output_type": "stream",
     "text": [
      "[{'pdb': '7rfb_A0-B0', 'rmsd_paratope': 3.427635797056642, 'para_ave_conf': 1.3023076923076924, 'rmsd_vague_paratope': 2.533765930649339, 'para_vague_ave_conf': 0.9035365853658537}, {'pdb': '7ps1_A0-B0', 'rmsd_paratope': 0.8221347856904775, 'para_ave_conf': 0.35965517241379313, 'rmsd_vague_paratope': 0.6657394513053291, 'para_vague_ave_conf': 0.2836764705882353}, {'pdb': '7kql_H0-L0', 'rmsd_paratope': 1.7402885918875601, 'para_ave_conf': 0.6943478260869567, 'rmsd_vague_paratope': 1.467131026768581, 'para_vague_ave_conf': 0.5026666666666667}, {'pdb': '7si0_I0-J0', 'rmsd_paratope': 1.697943953486767, 'para_ave_conf': 0.3147058823529412, 'rmsd_vague_paratope': 1.1042712129599663, 'para_vague_ave_conf': 0.21789473684210528}, {'pdb': '7q0i_H0-L0', 'rmsd_paratope': 2.108230108482501, 'para_ave_conf': 1.1522222222222223, 'rmsd_vague_paratope': 1.6564223821822959, 'para_vague_ave_conf': 0.8725316455696204}, {'pdb': '7mzi_H0-L0', 'rmsd_paratope': 1.095170278354966, 'para_ave_conf': 0.4057142857142857, 'rmsd_vague_paratope': 0.9583794679455895, 'para_vague_ave_conf': 0.3293055555555556}, {'pdb': '7k9j_H0-L0', 'rmsd_paratope': 1.1207688099472237, 'para_ave_conf': 0.5719047619047617, 'rmsd_vague_paratope': 1.1067961762020129, 'para_vague_ave_conf': 0.3457746478873239}, {'pdb': '7rah_B0-A0', 'rmsd_paratope': 0.5611888143729375, 'para_ave_conf': 0.3639130434782609, 'rmsd_vague_paratope': 0.45237158845409925, 'para_vague_ave_conf': 0.26499999999999996}, {'pdb': '7lr3_H0-L0', 'rmsd_paratope': 0.8102689606459482, 'para_ave_conf': 0.43052631578947365, 'rmsd_vague_paratope': 0.9301525308376123, 'para_vague_ave_conf': 0.3759701492537314}, {'pdb': '7qu2_A0-B0', 'rmsd_paratope': 1.4799546967060115, 'para_ave_conf': 0.743913043478261, 'rmsd_vague_paratope': 1.2191116270118336, 'para_vague_ave_conf': 0.5656578947368421}, {'pdb': '7mzm_H0-L0', 'rmsd_paratope': 4.694602065791547, 'para_ave_conf': 1.602592592592592, 'rmsd_vague_paratope': 3.3501933727688415, 'para_vague_ave_conf': 1.3126829268292681}, {'pdb': '7kyo_H0-L0', 'rmsd_paratope': 1.4323084558601102, 'para_ave_conf': 0.5625000000000001, 'rmsd_vague_paratope': 1.121848695337846, 'para_vague_ave_conf': 0.40842105263157896}, {'pdb': '7b0b_H0-L0', 'rmsd_paratope': 0.573706035029652, 'para_ave_conf': 0.6584210526315791, 'rmsd_vague_paratope': 0.5563305400018675, 'para_vague_ave_conf': 0.4152}, {'pdb': '7qny_A0-B0', 'rmsd_paratope': 3.220631792936936, 'para_ave_conf': 0.6358620689655174, 'rmsd_vague_paratope': 2.637303998633894, 'para_vague_ave_conf': 0.85125}, {'pdb': '7n4i_H0-L0', 'rmsd_paratope': 2.793078302509517, 'para_ave_conf': 0.8457692307692307, 'rmsd_vague_paratope': 1.8858141822533652, 'para_vague_ave_conf': 0.4516666666666667}, {'pdb': '7k7h_H0-L0', 'rmsd_paratope': 0.8905357800066673, 'para_ave_conf': 0.4707692307692308, 'rmsd_vague_paratope': 0.8228234372665875, 'para_vague_ave_conf': 0.3597333333333333}, {'pdb': '7l7e_C0-D0', 'rmsd_paratope': 8.496845589681408, 'para_ave_conf': 1.1766666666666667, 'rmsd_vague_paratope': 5.892588933146407, 'para_vague_ave_conf': 0.9080459770114943}, {'pdb': '7msq_D0-E0', 'rmsd_paratope': 5.30681105793866, 'para_ave_conf': 1.9250000000000003, 'rmsd_vague_paratope': 3.10758555181232, 'para_vague_ave_conf': 0.9994871794871794}, {'pdb': '7ps2_A0-B0', 'rmsd_paratope': 3.3846106317532585, 'para_ave_conf': 0.8491304347826091, 'rmsd_vague_paratope': 2.741595688688947, 'para_vague_ave_conf': 0.6457647058823529}, {'pdb': '7s0b_A0-B0', 'rmsd_paratope': 1.7270094579243662, 'para_ave_conf': 0.5537500000000001, 'rmsd_vague_paratope': 1.1973690384494946, 'para_vague_ave_conf': 0.3843055555555555}, {'pdb': '7bbg_H0-L0', 'rmsd_paratope': 1.8715178319867962, 'para_ave_conf': 0.6822727272727274, 'rmsd_vague_paratope': 1.507386756950814, 'para_vague_ave_conf': 0.3902857142857143}, {'pdb': '7r8l_H0-L0', 'rmsd_paratope': 0.7345111654280349, 'para_ave_conf': 0.3181818181818182, 'rmsd_vague_paratope': 0.6606233364826184, 'para_vague_ave_conf': 0.2645714285714286}, {'pdb': '7mzh_H0-L0', 'rmsd_paratope': 0.9090789666446871, 'para_ave_conf': 0.38478260869565206, 'rmsd_vague_paratope': 0.6577488622717501, 'para_vague_ave_conf': 0.3327536231884058}, {'pdb': '7nx3_B0-C0', 'rmsd_paratope': 2.2259277412397616, 'para_ave_conf': 0.5081818181818182, 'rmsd_vague_paratope': 1.3807160055941725, 'para_vague_ave_conf': 0.31144736842105264}, {'pdb': '7l7r_B0-A0', 'rmsd_paratope': 2.6314444156189754, 'para_ave_conf': 0.6384210526315788, 'rmsd_vague_paratope': 1.9787844593645134, 'para_vague_ave_conf': 0.4152173913043478}, {'pdb': '7q0g_A0-B0', 'rmsd_paratope': 3.385300097470447, 'para_ave_conf': 0.6395454545454545, 'rmsd_vague_paratope': 2.7015964776922274, 'para_vague_ave_conf': 0.4459154929577465}, {'pdb': '7phu_B0-C0', 'rmsd_paratope': 2.9208263733229405, 'para_ave_conf': 0.7739285714285712, 'rmsd_vague_paratope': 2.2149121725141496, 'para_vague_ave_conf': 0.6044155844155844}, {'pdb': '7seg_H0-L0', 'rmsd_paratope': 0.9493572091986985, 'para_ave_conf': 0.5205263157894737, 'rmsd_vague_paratope': 0.7582220701934402, 'para_vague_ave_conf': 0.39577464788732397}, {'pdb': '7s4s_H0-L0', 'rmsd_paratope': 1.6217739872206152, 'para_ave_conf': 0.4470370370370369, 'rmsd_vague_paratope': 1.4139586400064288, 'para_vague_ave_conf': 0.35563380281690143}, {'pdb': '7phw_B0-C0', 'rmsd_paratope': 4.9830492702056315, 'para_ave_conf': 1.688, 'rmsd_vague_paratope': 2.773926407290248, 'para_vague_ave_conf': 0.9698648648648648}, {'pdb': '7lr4_H0-L0', 'rmsd_paratope': 2.5627306289060656, 'para_ave_conf': 0.8433333333333333, 'rmsd_vague_paratope': 1.5431090043031455, 'para_vague_ave_conf': 0.4927777777777778}, {'pdb': '7l7d_H0-L0', 'rmsd_paratope': 0.41552295737942047, 'para_ave_conf': 0.3347368421052631, 'rmsd_vague_paratope': 0.42368981109682335, 'para_vague_ave_conf': 0.2914473684210526}, {'pdb': '7l0l_H0-L0', 'rmsd_paratope': 2.2049533120515794, 'para_ave_conf': 0.9191666666666668, 'rmsd_vague_paratope': 1.723013214627912, 'para_vague_ave_conf': 0.5748648648648649}, {'pdb': '7mzj_H0-L0', 'rmsd_paratope': 1.8957575749331783, 'para_ave_conf': 0.9369565217391304, 'rmsd_vague_paratope': 1.383286305577724, 'para_vague_ave_conf': 0.8030769230769231}, {'pdb': '7qu1_A0-B0', 'rmsd_paratope': 1.8494302291995706, 'para_ave_conf': 0.6257142857142857, 'rmsd_vague_paratope': 0.9333403742183729, 'para_vague_ave_conf': 0.35887323943661975}, {'pdb': '7e72_A0-B0', 'rmsd_paratope': 1.05714607121413, 'para_ave_conf': 0.4552173913043478, 'rmsd_vague_paratope': 0.8473834784298875, 'para_vague_ave_conf': 0.36303030303030304}, {'pdb': '7daa_H0-L0', 'rmsd_paratope': 1.31394406759053, 'para_ave_conf': 0.6485000000000001, 'rmsd_vague_paratope': 1.1362996005183252, 'para_vague_ave_conf': 0.4621739130434783}, {'pdb': '7np1_H0-L0', 'rmsd_paratope': 3.6203161036276303, 'para_ave_conf': 0.8331999999999999, 'rmsd_vague_paratope': 3.0576640470842187, 'para_vague_ave_conf': 0.6346575342465753}, {'pdb': '7n4j_H0-L0', 'rmsd_paratope': 3.2936966777734376, 'para_ave_conf': 0.7683999999999999, 'rmsd_vague_paratope': 2.8801510167746103, 'para_vague_ave_conf': 0.7576136363636364}, {'pdb': '7dk2_A0-B0', 'rmsd_paratope': 3.590966660670959, 'para_ave_conf': 0.49645161290322587, 'rmsd_vague_paratope': 3.9108731444781872, 'para_vague_ave_conf': 0.42478873239436615}, {'pdb': '7pr0_H0-L0', 'rmsd_paratope': 2.4026496096496768, 'para_ave_conf': 1.8886956521739133, 'rmsd_vague_paratope': 4.074302241412349, 'para_vague_ave_conf': 1.4266666666666667}, {'pdb': '7s13_H0-L0', 'rmsd_paratope': 1.2204855665504444, 'para_ave_conf': 0.6096666666666667, 'rmsd_vague_paratope': 1.1734070718975351, 'para_vague_ave_conf': 0.5208695652173913}, {'pdb': '7l7r_D0-C0', 'rmsd_paratope': 2.072278898340347, 'para_ave_conf': 0.8899999999999998, 'rmsd_vague_paratope': 1.3775370200177608, 'para_vague_ave_conf': 0.5594594594594594}, {'pdb': '7f7e_C0-L0', 'rmsd_paratope': 3.04709858483947, 'para_ave_conf': 1.4594117647058829, 'rmsd_vague_paratope': 2.911922872274032, 'para_vague_ave_conf': 0.8200000000000001}, {'pdb': '7rk1_C0-C1', 'rmsd_paratope': 0.7400953675192541, 'para_ave_conf': 0.3290909090909091, 'rmsd_vague_paratope': 0.5570379267416121, 'para_vague_ave_conf': 0.3587096774193549}, {'pdb': '7s11_H0-L0', 'rmsd_paratope': 2.765573464468414, 'para_ave_conf': 0.6140000000000001, 'rmsd_vague_paratope': 2.1947701154826693, 'para_vague_ave_conf': 0.4602777777777778}, {'pdb': '7bnv_H0-L0', 'rmsd_paratope': 3.7542667275380186, 'para_ave_conf': 1.6981249999999999, 'rmsd_vague_paratope': 2.7065198951296194, 'para_vague_ave_conf': 1.082962962962963}, {'pdb': '7mzf_H0-L0', 'rmsd_paratope': 1.0744417825994839, 'para_ave_conf': 0.3796428571428571, 'rmsd_vague_paratope': 0.7783161771082893, 'para_vague_ave_conf': 0.29823529411764704}, {'pdb': '7kn4_H0-L0', 'rmsd_paratope': 1.5046208732328448, 'para_ave_conf': 0.5065, 'rmsd_vague_paratope': 1.6074649871446138, 'para_vague_ave_conf': 0.38236111111111115}, {'pdb': '7r89_C0-D0', 'rmsd_paratope': 1.5696401062982182, 'para_ave_conf': 0.5100000000000001, 'rmsd_vague_paratope': 1.4970103670524462, 'para_vague_ave_conf': 0.38185714285714284}, {'pdb': '7kf1_H0-L0', 'rmsd_paratope': 1.6200215052915867, 'para_ave_conf': 0.9961111111111111, 'rmsd_vague_paratope': 1.407963169872179, 'para_vague_ave_conf': 0.6884210526315789}, {'pdb': '7e3o_H0-L0', 'rmsd_paratope': 1.9452024211659555, 'para_ave_conf': 0.7026666666666668, 'rmsd_vague_paratope': 1.56520819218772, 'para_vague_ave_conf': 0.6128947368421053}, {'pdb': '7lf7_A0-B0', 'rmsd_paratope': 0.5445297345499236, 'para_ave_conf': 0.42823529411764705, 'rmsd_vague_paratope': 0.39363190361734773, 'para_vague_ave_conf': 0.2743055555555556}, {'pdb': '7mdj_A0-B0', 'rmsd_paratope': 1.2901029893072702, 'para_ave_conf': 0.6404761904761903, 'rmsd_vague_paratope': 1.2283481054674446, 'para_vague_ave_conf': 0.43434782608695655}, {'pdb': '7shu_E0-F0', 'rmsd_paratope': 1.6447396790565614, 'para_ave_conf': 0.4894117647058826, 'rmsd_vague_paratope': 1.06419784896205, 'para_vague_ave_conf': 0.26710526315789473}, {'pdb': '7kez_H0-L0', 'rmsd_paratope': 2.632969174741248, 'para_ave_conf': 1.0768181818181821, 'rmsd_vague_paratope': 2.0919815227105687, 'para_vague_ave_conf': 0.6628205128205129}, {'pdb': '7lfa_B0-D0', 'rmsd_paratope': 0.565403039522197, 'para_ave_conf': 0.4880952380952379, 'rmsd_vague_paratope': 0.567793241432187, 'para_vague_ave_conf': 0.3742465753424658}, {'pdb': '7ps6_H0-L0', 'rmsd_paratope': 1.529040310080146, 'para_ave_conf': 0.8177777777777777, 'rmsd_vague_paratope': 1.2115015155507487, 'para_vague_ave_conf': 0.5868831168831169}, {'pdb': '7mrz_X0-Y0', 'rmsd_paratope': 2.0306384013899934, 'para_ave_conf': 0.46320000000000017, 'rmsd_vague_paratope': 1.4159177292066878, 'para_vague_ave_conf': 0.3397402597402597}, {'pdb': '7lfb_H0-L0', 'rmsd_paratope': 1.0181408330483608, 'para_ave_conf': 0.7335999999999998, 'rmsd_vague_paratope': 0.710404015406987, 'para_vague_ave_conf': 0.49263888888888885}, {'pdb': '7sem_B0-C0', 'rmsd_paratope': 0.8501315912597801, 'para_ave_conf': 0.73, 'rmsd_vague_paratope': 0.6632058009375753, 'para_vague_ave_conf': 0.4784810126582279}, {'pdb': '7rk2_C0-C1', 'rmsd_paratope': 1.372887892787647, 'para_ave_conf': 0.47956521739130453, 'rmsd_vague_paratope': 0.9452531924328413, 'para_vague_ave_conf': 0.36952380952380953}, {'pdb': '7qnw_A0-B0', 'rmsd_paratope': 2.0395693094344844, 'para_ave_conf': 2.0081250000000006, 'rmsd_vague_paratope': 2.2991099447783374, 'para_vague_ave_conf': 0.8777215189873419}, {'pdb': '7mzk_N0-M0', 'rmsd_paratope': 2.412338950162706, 'para_ave_conf': 0.55125, 'rmsd_vague_paratope': 1.355454135148452, 'para_vague_ave_conf': 0.3891139240506329}, {'pdb': '7kn3_H0-L0', 'rmsd_paratope': 1.0805224225331578, 'para_ave_conf': 0.36639999999999995, 'rmsd_vague_paratope': 0.8392521130823137, 'para_vague_ave_conf': 0.2704109589041096}, {'pdb': '7rah_D0-C0', 'rmsd_paratope': 1.7053602634853051, 'para_ave_conf': 0.6199999999999999, 'rmsd_vague_paratope': 1.2085043178907873, 'para_vague_ave_conf': 0.4445333333333334}, {'pdb': '7soe_B0-L0', 'rmsd_paratope': 2.4809090451326807, 'para_ave_conf': 1.0166666666666666, 'rmsd_vague_paratope': 1.9047055113601974, 'para_vague_ave_conf': 0.5481578947368421}, {'pdb': '7ps4_H0-L0', 'rmsd_paratope': 3.929458399136817, 'para_ave_conf': 1.4157142857142861, 'rmsd_vague_paratope': 2.690508803850341, 'para_vague_ave_conf': 0.85}, {'pdb': '7shz_K0-L0', 'rmsd_paratope': 1.5234534778618773, 'para_ave_conf': 0.30666666666666664, 'rmsd_vague_paratope': 1.1031004168545546, 'para_vague_ave_conf': 0.23565789473684215}, {'pdb': '7ps0_H0-L0', 'rmsd_paratope': 2.5181952299653876, 'para_ave_conf': 0.7494444444444446, 'rmsd_vague_paratope': 2.3371574239742285, 'para_vague_ave_conf': 0.5574358974358975}, {'pdb': '7bbj_H0-L0', 'rmsd_paratope': 0.9982404622544304, 'para_ave_conf': 0.40869565217391296, 'rmsd_vague_paratope': 0.7340668090085523, 'para_vague_ave_conf': 0.2985294117647059}, {'pdb': '7vux_H0-L0', 'rmsd_paratope': 0.5161724844582005, 'para_ave_conf': 0.33925925925925915, 'rmsd_vague_paratope': 0.44418324841239115, 'para_vague_ave_conf': 0.29367647058823526}, {'pdb': '7vmu_A0-A1', 'rmsd_paratope': 0.9679019482926513, 'para_ave_conf': 0.43193548387096775, 'rmsd_vague_paratope': 0.788786193488201, 'para_vague_ave_conf': 0.32770491803278684}, {'pdb': '7coe_H0-L0', 'rmsd_paratope': 2.406571919098707, 'para_ave_conf': 1.3255000000000001, 'rmsd_vague_paratope': 1.5698325128436716, 'para_vague_ave_conf': 1.017037037037037}, {'pdb': '7ps6_C0-D0', 'rmsd_paratope': 0.8746344960989161, 'para_ave_conf': 0.5638888888888889, 'rmsd_vague_paratope': 0.702276190633061, 'para_vague_ave_conf': 0.36797297297297304}, {'pdb': '7q0g_H0-L0', 'rmsd_paratope': 2.600831457661304, 'para_ave_conf': 0.3995652173913046, 'rmsd_vague_paratope': 1.9130775802673057, 'para_vague_ave_conf': 0.30558823529411766}, {'pdb': '7mzg_H0-L0', 'rmsd_paratope': 1.305185528049525, 'para_ave_conf': 0.584642857142857, 'rmsd_vague_paratope': 1.1996482765089298, 'para_vague_ave_conf': 0.41214285714285714}, {'pdb': '7pi7_B0-C0', 'rmsd_paratope': 0.8921407104978886, 'para_ave_conf': 0.46366666666666667, 'rmsd_vague_paratope': 0.8409059254676098, 'para_vague_ave_conf': 0.37742857142857145}, {'pdb': '7e5o_H0-L0', 'rmsd_paratope': 1.4735833502538762, 'para_ave_conf': 0.6335714285714286, 'rmsd_vague_paratope': 1.1882931016953253, 'para_vague_ave_conf': 0.4808450704225352}, {'pdb': '7n3i_H0-L0', 'rmsd_paratope': 1.1507330807343925, 'para_ave_conf': 0.36625, 'rmsd_vague_paratope': 0.9856512606357146, 'para_vague_ave_conf': 0.30057142857142854}, {'pdb': '7ps2_H0-L0', 'rmsd_paratope': 3.1887037210908193, 'para_ave_conf': 0.8816000000000002, 'rmsd_vague_paratope': 2.4373354760811927, 'para_vague_ave_conf': 0.5031506849315069}, {'pdb': '7rks_H0-L0', 'rmsd_paratope': 4.2158474271527595, 'para_ave_conf': 1.155909090909091, 'rmsd_vague_paratope': 3.271276468229548, 'para_vague_ave_conf': 0.8281927710843374}, {'pdb': '7kf0_H0-L0', 'rmsd_paratope': 1.9713378609940815, 'para_ave_conf': 0.65, 'rmsd_vague_paratope': 1.5216147950360683, 'para_vague_ave_conf': 0.46893333333333337}]\n"
     ]
    }
   ],
   "source": [
    "print(records)"
   ],
   "metadata": {
    "collapsed": false,
    "pycharm": {
     "name": "#%%\n"
    }
   }
  },
  {
   "cell_type": "code",
   "execution_count": 5,
   "outputs": [],
   "source": [
    "abb2_antibody_rmsd_conf_df = pd.DataFrame.from_records(records)"
   ],
   "metadata": {
    "collapsed": false,
    "pycharm": {
     "name": "#%%\n"
    }
   }
  },
  {
   "cell_type": "code",
   "execution_count": 6,
   "outputs": [
    {
     "data": {
      "text/plain": "           pdb  rmsd_paratope  para_ave_conf  rmsd_vague_paratope  \\\n0   7rfb_A0-B0       3.427636       1.302308             2.533766   \n1   7ps1_A0-B0       0.822135       0.359655             0.665739   \n2   7kql_H0-L0       1.740289       0.694348             1.467131   \n3   7si0_I0-J0       1.697944       0.314706             1.104271   \n4   7q0i_H0-L0       2.108230       1.152222             1.656422   \n..         ...            ...            ...                  ...   \n78  7e5o_H0-L0       1.473583       0.633571             1.188293   \n79  7n3i_H0-L0       1.150733       0.366250             0.985651   \n80  7ps2_H0-L0       3.188704       0.881600             2.437335   \n81  7rks_H0-L0       4.215847       1.155909             3.271276   \n82  7kf0_H0-L0       1.971338       0.650000             1.521615   \n\n    para_vague_ave_conf  \n0              0.903537  \n1              0.283676  \n2              0.502667  \n3              0.217895  \n4              0.872532  \n..                  ...  \n78             0.480845  \n79             0.300571  \n80             0.503151  \n81             0.828193  \n82             0.468933  \n\n[83 rows x 5 columns]",
      "text/html": "<div>\n<style scoped>\n    .dataframe tbody tr th:only-of-type {\n        vertical-align: middle;\n    }\n\n    .dataframe tbody tr th {\n        vertical-align: top;\n    }\n\n    .dataframe thead th {\n        text-align: right;\n    }\n</style>\n<table border=\"1\" class=\"dataframe\">\n  <thead>\n    <tr style=\"text-align: right;\">\n      <th></th>\n      <th>pdb</th>\n      <th>rmsd_paratope</th>\n      <th>para_ave_conf</th>\n      <th>rmsd_vague_paratope</th>\n      <th>para_vague_ave_conf</th>\n    </tr>\n  </thead>\n  <tbody>\n    <tr>\n      <th>0</th>\n      <td>7rfb_A0-B0</td>\n      <td>3.427636</td>\n      <td>1.302308</td>\n      <td>2.533766</td>\n      <td>0.903537</td>\n    </tr>\n    <tr>\n      <th>1</th>\n      <td>7ps1_A0-B0</td>\n      <td>0.822135</td>\n      <td>0.359655</td>\n      <td>0.665739</td>\n      <td>0.283676</td>\n    </tr>\n    <tr>\n      <th>2</th>\n      <td>7kql_H0-L0</td>\n      <td>1.740289</td>\n      <td>0.694348</td>\n      <td>1.467131</td>\n      <td>0.502667</td>\n    </tr>\n    <tr>\n      <th>3</th>\n      <td>7si0_I0-J0</td>\n      <td>1.697944</td>\n      <td>0.314706</td>\n      <td>1.104271</td>\n      <td>0.217895</td>\n    </tr>\n    <tr>\n      <th>4</th>\n      <td>7q0i_H0-L0</td>\n      <td>2.108230</td>\n      <td>1.152222</td>\n      <td>1.656422</td>\n      <td>0.872532</td>\n    </tr>\n    <tr>\n      <th>...</th>\n      <td>...</td>\n      <td>...</td>\n      <td>...</td>\n      <td>...</td>\n      <td>...</td>\n    </tr>\n    <tr>\n      <th>78</th>\n      <td>7e5o_H0-L0</td>\n      <td>1.473583</td>\n      <td>0.633571</td>\n      <td>1.188293</td>\n      <td>0.480845</td>\n    </tr>\n    <tr>\n      <th>79</th>\n      <td>7n3i_H0-L0</td>\n      <td>1.150733</td>\n      <td>0.366250</td>\n      <td>0.985651</td>\n      <td>0.300571</td>\n    </tr>\n    <tr>\n      <th>80</th>\n      <td>7ps2_H0-L0</td>\n      <td>3.188704</td>\n      <td>0.881600</td>\n      <td>2.437335</td>\n      <td>0.503151</td>\n    </tr>\n    <tr>\n      <th>81</th>\n      <td>7rks_H0-L0</td>\n      <td>4.215847</td>\n      <td>1.155909</td>\n      <td>3.271276</td>\n      <td>0.828193</td>\n    </tr>\n    <tr>\n      <th>82</th>\n      <td>7kf0_H0-L0</td>\n      <td>1.971338</td>\n      <td>0.650000</td>\n      <td>1.521615</td>\n      <td>0.468933</td>\n    </tr>\n  </tbody>\n</table>\n<p>83 rows × 5 columns</p>\n</div>"
     },
     "execution_count": 6,
     "metadata": {},
     "output_type": "execute_result"
    }
   ],
   "source": [
    "abb2_antibody_rmsd_conf_df"
   ],
   "metadata": {
    "collapsed": false,
    "pycharm": {
     "name": "#%%\n"
    }
   }
  },
  {
   "cell_type": "code",
   "execution_count": 7,
   "outputs": [],
   "source": [
    "abb2_antibody_rmsd_conf_df.to_csv('../data/ABB2_antibody_rmsd_conf.csv')"
   ],
   "metadata": {
    "collapsed": false,
    "pycharm": {
     "name": "#%%\n"
    }
   }
  },
  {
   "cell_type": "code",
   "execution_count": null,
   "outputs": [],
   "source": [],
   "metadata": {
    "collapsed": false,
    "pycharm": {
     "name": "#%%\n"
    }
   }
  }
 ],
 "metadata": {
  "kernelspec": {
   "display_name": "Python 3",
   "language": "python",
   "name": "python3"
  },
  "language_info": {
   "codemirror_mode": {
    "name": "ipython",
    "version": 2
   },
   "file_extension": ".py",
   "mimetype": "text/x-python",
   "name": "python",
   "nbconvert_exporter": "python",
   "pygments_lexer": "ipython2",
   "version": "2.7.6"
  }
 },
 "nbformat": 4,
 "nbformat_minor": 0
}